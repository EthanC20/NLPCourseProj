{
 "cells": [
  {
   "cell_type": "markdown",
   "metadata": {},
   "source": [
    "# TransE的pytorch实现\n",
    "\n",
    "TransE不是神经网络模型，它无法理解句子的含义，因而得分不高，随便跑跑mrr大概在42左右，调下参大概有45-50。\n",
    "\n",
    "TransE的优势在于不吃算力，仅靠CPU就能运行，这里我写的GPU版本速度更快。而且代码简单。\n",
    "\n",
    "又试了一下，我已经复现不出自己的得分了，太玄学了，大概策略就是先norm取1得到最优模型，加载该模型并norm改为2训练得到最优模型，再加载该模型norm取3得到最优模型，再反复调整后最优分数就是50左右；\n",
    "在算力允许的情况下，batchsize尽可能大，比如10万-150万（就是全部）；然后就是embedding维度我感觉影响不大，100维包含的信息足够丰富了，试过256和512，貌似大一点有时要好一些，不太确定，太大了会比较费算力；学习率粗调可以在0.01-0.001之间，微调就在0.001-0.0001之间吧。\n",
    "\n",
    "原作者github下载：https://github.com/renqi1/TransE_Pytorch_OpenBG500\n"
   ]
  },
  {
   "cell_type": "code",
   "execution_count": 1,
   "metadata": {},
   "outputs": [],
   "source": [
    "import torch\n",
    "from torch import nn\n",
    "from torch.utils import data\n",
    "import numpy as np\n",
    "import tqdm"
   ]
  },
  {
   "cell_type": "markdown",
   "metadata": {},
   "source": [
    "## 构建数据集"
   ]
  },
  {
   "cell_type": "code",
   "execution_count": 4,
   "metadata": {},
   "outputs": [],
   "source": [
    "# 训练集和验证集\n",
    "class TripleDataset(data.Dataset):\n",
    "    def __init__(self, ent2id, rel2id, triple_data_list):\n",
    "        self.ent2id = ent2id\n",
    "        self.rel2id = rel2id\n",
    "        self.data = triple_data_list\n",
    "\n",
    "    def __len__(self):\n",
    "        return len(self.data)\n",
    "\n",
    "    def __getitem__(self, index):\n",
    "        head, relation, tail = self.data[index]\n",
    "        head_id = self.ent2id[head]\n",
    "        relation_id = self.rel2id[relation]\n",
    "        tail_id = self.ent2id[tail]\n",
    "        return head_id, relation_id, tail_id\n",
    "\n",
    "# 测试集    \n",
    "class TestDataset(data.Dataset):\n",
    "    def __init__(self, ent2id, rel2id, test_data_list):\n",
    "        self.ent2id = ent2id\n",
    "        self.rel2id = rel2id\n",
    "        self.data = test_data_list\n",
    "\n",
    "    def __len__(self):\n",
    "        return len(self.data)\n",
    "\n",
    "    def __getitem__(self, index):\n",
    "        head, relation = self.data[index]\n",
    "        head_id = self.ent2id[head]\n",
    "        relation_id = self.rel2id[relation]\n",
    "        return head_id, relation_id"
   ]
  },
  {
   "cell_type": "markdown",
   "metadata": {},
   "source": [
    "## TransE模型"
   ]
  },
  {
   "cell_type": "code",
   "execution_count": 5,
   "metadata": {},
   "outputs": [],
   "source": [
    "class TransE(nn.Module):\n",
    "\n",
    "    def __init__(self, entity_num, relation_num, norm=1, dim=100):\n",
    "        super(TransE, self).__init__()\n",
    "        self.norm = norm\n",
    "        self.dim = dim\n",
    "        self.entity_num = entity_num\n",
    "        self.entities_emb = self._init_emb(entity_num)\n",
    "        self.relations_emb = self._init_emb(relation_num)\n",
    "\n",
    "    def _init_emb(self, num_embeddings):\n",
    "        embedding = nn.Embedding(num_embeddings=num_embeddings, embedding_dim=self.dim)\n",
    "        uniform_range = 6 / np.sqrt(self.dim)\n",
    "        embedding.weight.data.uniform_(-uniform_range, uniform_range)\n",
    "        embedding.weight.data = torch.div(embedding.weight.data, embedding.weight.data.norm(p=2, dim=1, keepdim=True))\n",
    "        return embedding\n",
    "\n",
    "    def forward(self, positive_triplets: torch.LongTensor, negative_triplets: torch.LongTensor):\n",
    "        positive_distances = self._distance(positive_triplets)\n",
    "        negative_distances = self._distance(negative_triplets)\n",
    "        return positive_distances, negative_distances\n",
    "\n",
    "    def _distance(self, triplets):\n",
    "        heads = self.entities_emb(triplets[:, 0])\n",
    "        relations = self.relations_emb(triplets[:, 1])\n",
    "        tails = self.entities_emb(triplets[:, 2])\n",
    "        return (heads + relations - tails).norm(p=self.norm, dim=1)\n",
    "\n",
    "    def link_predict(self, head, relation, tail=None, k=10):\n",
    "        # h_add_r: [batch size, embed size] -> [batch size, 1, embed size] -> [batch size, entity num, embed size]\n",
    "        h_add_r = self.entities_emb(head) + self.relations_emb(relation)\n",
    "        h_add_r = torch.unsqueeze(h_add_r, dim=1)\n",
    "        h_add_r = h_add_r.expand(h_add_r.shape[0], self.entity_num, self.dim)\n",
    "        # embed_tail: [batch size, embed size] -> [batch size, entity num, embed size]\n",
    "        embed_tail = self.entities_emb.weight.data.expand(h_add_r.shape[0], self.entity_num, self.dim)\n",
    "        # values: [batch size, k] scores, the smaller, the better\n",
    "        # indices: [batch size, k] indices of entities ranked by scores\n",
    "        values, indices = torch.topk(torch.norm(h_add_r - embed_tail, dim=2), k=self.entity_num, dim=1, largest=False)\n",
    "        if tail is not None:\n",
    "            tail = tail.view(-1, 1)\n",
    "            rank_num = torch.eq(indices, tail).nonzero().permute(1, 0)[1]+1\n",
    "            rank_num[rank_num > 9] = 10000\n",
    "            mrr = torch.sum(1/rank_num)\n",
    "            hits_1_num = torch.sum(torch.eq(indices[:, :1], tail)).item()\n",
    "            hits_3_num = torch.sum(torch.eq(indices[:, :3], tail)).item()\n",
    "            hits_10_num = torch.sum(torch.eq(indices[:, :10], tail)).item()\n",
    "            return mrr, hits_1_num, hits_3_num, hits_10_num     # 返回一个batchsize, mrr的和，hit@k的和\n",
    "        return indices[:, :k]\n",
    "\n",
    "    def evaluate(self, data_loader, dev_num=5000.0):\n",
    "        mrr_sum = hits_1_nums = hits_3_nums = hits_10_nums = 0\n",
    "        for heads, relations, tails in tqdm.tqdm(data_loader):\n",
    "            mrr_sum_batch, hits_1_num, hits_3_num, hits_10_num = self.link_predict(heads.cuda(), relations.cuda(), tails.cuda())\n",
    "            mrr_sum += mrr_sum_batch\n",
    "            hits_1_nums += hits_1_num\n",
    "            hits_3_nums += hits_3_num\n",
    "            hits_10_nums += hits_10_num\n",
    "        return mrr_sum/dev_num, hits_1_nums/dev_num, hits_3_nums/dev_num, hits_10_nums/dev_num"
   ]
  },
  {
   "cell_type": "markdown",
   "metadata": {},
   "source": [
    "## 设置参数"
   ]
  },
  {
   "cell_type": "code",
   "execution_count": 6,
   "metadata": {},
   "outputs": [],
   "source": [
    "# batchsize增大，得分略有上升\n",
    "train_batch_size = 100000\n",
    "dev_batch_size = 20  # 显存不够就调小\n",
    "test_batch_size = 20\n",
    "epochs = 40\n",
    "margin = 1\n",
    "print_frequency = 5  # 每多少step输出一次信息\n",
    "validation = True  # 是否验证，验证比较费时\n",
    "dev_interval = 5  # 每多少轮验证一次，微调设小一点，会保存最佳权重\n",
    "best_mrr = 0\n",
    "learning_rate = 0.001  # 学习率建议粗调0.01-0.001，精调0.001-0.0001\n",
    "distance_norm = 3  # 论文是L1距离效果不好，取2或3效果好\n",
    "embedding_dim = 100  # 维度增大可能会有提升，我感觉没用，100维包含的信息足够丰富"
   ]
  },
  {
   "cell_type": "markdown",
   "metadata": {},
   "source": [
    "## 加载数据集"
   ]
  },
  {
   "cell_type": "code",
   "execution_count": 7,
   "metadata": {},
   "outputs": [],
   "source": [
    "with open('OpenBG500/OpenBG500_entity2text.tsv', 'r', encoding='utf-8') as fp:\n",
    "    dat = fp.readlines()\n",
    "    lines = [line.strip('\\n').split('\\t') for line in dat]\n",
    "ent2id = {line[0]: i for i, line in enumerate(lines)}\n",
    "id2ent = {i: line[0] for i, line in enumerate(lines)}\n",
    "with open('OpenBG500/OpenBG500_relation2text.tsv', 'r', encoding='utf-8') as fp:\n",
    "    dat = fp.readlines()\n",
    "    lines = [line.strip().split('\\t') for line in dat]\n",
    "rel2id = {line[0]: i for i, line in enumerate(lines)}\n",
    "with open('OpenBG500/OpenBG500_train.tsv', 'r', encoding='utf-8') as fp:\n",
    "    dat = fp.readlines()\n",
    "    train = [line.strip('\\n').split('\\t') for line in dat]\n",
    "with open('OpenBG500/OpenBG500_dev.tsv', 'r', encoding='utf-8') as fp:\n",
    "    dat = fp.readlines()\n",
    "    dev = [line.strip('\\n').split('\\t') for line in dat]\n",
    "with open('OpenBG500/OpenBG500_test.tsv', 'r', encoding='utf-8') as fp:\n",
    "    test = fp.readlines()\n",
    "    test = [line.strip('\\n').split('\\t') for line in test]\n",
    "# 构建数据集\n",
    "train_dataset = TripleDataset(ent2id, rel2id, train)\n",
    "dev_dataset = TripleDataset(ent2id, rel2id, dev)\n",
    "train_data_loader = data.DataLoader(train_dataset, batch_size=train_batch_size, shuffle=True)\n",
    "dev_data_loader = data.DataLoader(dev_dataset, batch_size=dev_batch_size)\n",
    "test_dataset = TestDataset(ent2id, rel2id, test)\n",
    "test_data_loader = data.DataLoader(test_dataset, batch_size=test_batch_size)"
   ]
  },
  {
   "cell_type": "markdown",
   "metadata": {},
   "source": [
    "## 训练和验证"
   ]
  },
  {
   "cell_type": "code",
   "execution_count": 8,
   "metadata": {},
   "outputs": [
    {
     "name": "stderr",
     "output_type": "stream",
     "text": [
      "e:\\anaconda3\\envs\\NLP\\lib\\site-packages\\tqdm\\auto.py:21: TqdmWarning: IProgress not found. Please update jupyter and ipywidgets. See https://ipywidgets.readthedocs.io/en/stable/user_install.html\n",
      "  from .autonotebook import tqdm as notebook_tqdm\n"
     ]
    },
    {
     "name": "stdout",
     "output_type": "stream",
     "text": [
      "start training...\n",
      "epoch:0/40, step:0/13, loss=1.0006229877471924, avg_loss=1.0006229877471924\n",
      "epoch:0/40, step:5/13, loss=0.9924066662788391, avg_loss=0.996391773223877\n",
      "epoch:0/40, step:10/13, loss=0.9841039776802063, avg_loss=0.9922959804534912\n",
      "epoch:0/40, all_loss=12.878381729125977\n",
      "epoch:1/40, step:0/13, loss=0.9760602712631226, avg_loss=0.9760602712631226\n",
      "epoch:1/40, step:5/13, loss=0.9674826264381409, avg_loss=0.9717725515365601\n",
      "epoch:1/40, step:10/13, loss=0.9584954380989075, avg_loss=0.9673619270324707\n",
      "epoch:1/40, all_loss=12.55441665649414\n",
      "epoch:2/40, step:0/13, loss=0.9521304368972778, avg_loss=0.9521304368972778\n",
      "epoch:2/40, step:5/13, loss=0.943484902381897, avg_loss=0.9478496313095093\n",
      "epoch:2/40, step:10/13, loss=0.9352155327796936, avg_loss=0.9436025023460388\n",
      "epoch:2/40, all_loss=12.244922637939453\n",
      "epoch:3/40, step:0/13, loss=0.928735077381134, avg_loss=0.928735077381134\n",
      "epoch:3/40, step:5/13, loss=0.9201604723930359, avg_loss=0.9242556095123291\n",
      "epoch:3/40, step:10/13, loss=0.9122798442840576, avg_loss=0.9202682375907898\n",
      "epoch:3/40, all_loss=11.943011283874512\n",
      "epoch:4/40, step:0/13, loss=0.9059825539588928, avg_loss=0.9059825539588928\n",
      "epoch:4/40, step:5/13, loss=0.8967816829681396, avg_loss=0.9015549421310425\n",
      "epoch:4/40, step:10/13, loss=0.8888182044029236, avg_loss=0.8974201083183289\n",
      "epoch:4/40, all_loss=11.6450834274292\n",
      "testing...\n"
     ]
    },
    {
     "name": "stderr",
     "output_type": "stream",
     "text": [
      "100%|██████████| 250/250 [00:07<00:00, 32.13it/s]\n"
     ]
    },
    {
     "name": "stdout",
     "output_type": "stream",
     "text": [
      "mrr: 0.21259693801403046, hit@1: 0.026, hit@3: 0.3854, hit@10: 0.4972  *\n",
      "epoch:5/40, step:0/13, loss=0.8833820223808289, avg_loss=0.8833820223808289\n",
      "epoch:5/40, step:5/13, loss=0.8751577734947205, avg_loss=0.8789476752281189\n",
      "epoch:5/40, step:10/13, loss=0.8667585849761963, avg_loss=0.8750125169754028\n",
      "epoch:5/40, all_loss=11.354913711547852\n",
      "epoch:6/40, step:0/13, loss=0.8607288599014282, avg_loss=0.8607288599014282\n",
      "epoch:6/40, step:5/13, loss=0.8529932498931885, avg_loss=0.8567436933517456\n",
      "epoch:6/40, step:10/13, loss=0.8452426195144653, avg_loss=0.852606475353241\n",
      "epoch:6/40, all_loss=11.062251091003418\n",
      "epoch:7/40, step:0/13, loss=0.8389251232147217, avg_loss=0.8389251232147217\n",
      "epoch:7/40, step:5/13, loss=0.8303617238998413, avg_loss=0.8345636129379272\n",
      "epoch:7/40, step:10/13, loss=0.8228740692138672, avg_loss=0.8305608034133911\n",
      "epoch:7/40, all_loss=10.77435302734375\n",
      "epoch:8/40, step:0/13, loss=0.816322386264801, avg_loss=0.816322386264801\n",
      "epoch:8/40, step:5/13, loss=0.8073774576187134, avg_loss=0.8116052150726318\n",
      "epoch:8/40, step:10/13, loss=0.7998908162117004, avg_loss=0.8075267672538757\n",
      "epoch:8/40, all_loss=10.477888107299805\n",
      "epoch:9/40, step:0/13, loss=0.7944830060005188, avg_loss=0.7944830060005188\n",
      "epoch:9/40, step:5/13, loss=0.784654974937439, avg_loss=0.7894192934036255\n",
      "epoch:9/40, step:10/13, loss=0.7760844826698303, avg_loss=0.784992516040802\n",
      "epoch:9/40, all_loss=10.18305492401123\n",
      "testing...\n"
     ]
    },
    {
     "name": "stderr",
     "output_type": "stream",
     "text": [
      "100%|██████████| 250/250 [00:08<00:00, 31.24it/s]\n"
     ]
    },
    {
     "name": "stdout",
     "output_type": "stream",
     "text": [
      "mrr: 0.44938036799430847, hit@1: 0.3204, hit@3: 0.5492, hit@10: 0.7036  *\n",
      "epoch:10/40, step:0/13, loss=0.7702112197875977, avg_loss=0.7702112197875977\n",
      "epoch:10/40, step:5/13, loss=0.7605081796646118, avg_loss=0.7655767202377319\n",
      "epoch:10/40, step:10/13, loss=0.7535454630851746, avg_loss=0.7616222500801086\n",
      "epoch:10/40, all_loss=9.878938674926758\n",
      "epoch:11/40, step:0/13, loss=0.7465500831604004, avg_loss=0.7465500831604004\n",
      "epoch:11/40, step:5/13, loss=0.7381624579429626, avg_loss=0.742011547088623\n",
      "epoch:11/40, step:10/13, loss=0.7297771573066711, avg_loss=0.7376893758773804\n",
      "epoch:11/40, all_loss=9.56712818145752\n",
      "epoch:12/40, step:0/13, loss=0.7232531309127808, avg_loss=0.7232531309127808\n",
      "epoch:12/40, step:5/13, loss=0.714458703994751, avg_loss=0.7183361053466797\n",
      "epoch:12/40, step:10/13, loss=0.704821765422821, avg_loss=0.7138711810112\n",
      "epoch:12/40, all_loss=9.256147384643555\n",
      "epoch:13/40, step:0/13, loss=0.6979646682739258, avg_loss=0.6979646682739258\n",
      "epoch:13/40, step:5/13, loss=0.6875792145729065, avg_loss=0.6930637359619141\n",
      "epoch:13/40, step:10/13, loss=0.6806018352508545, avg_loss=0.6888877153396606\n",
      "epoch:13/40, all_loss=8.933238983154297\n",
      "epoch:14/40, step:0/13, loss=0.6723332405090332, avg_loss=0.6723332405090332\n",
      "epoch:14/40, step:5/13, loss=0.6650152802467346, avg_loss=0.6683856844902039\n",
      "epoch:14/40, step:10/13, loss=0.6555745005607605, avg_loss=0.664167582988739\n",
      "epoch:14/40, all_loss=8.612031936645508\n",
      "testing...\n"
     ]
    },
    {
     "name": "stderr",
     "output_type": "stream",
     "text": [
      "100%|██████████| 250/250 [00:08<00:00, 30.30it/s]\n"
     ]
    },
    {
     "name": "stdout",
     "output_type": "stream",
     "text": [
      "mrr: 0.5094794034957886, hit@1: 0.3962, hit@3: 0.597, hit@10: 0.742  *\n",
      "epoch:15/40, step:0/13, loss=0.6486914753913879, avg_loss=0.6486914753913879\n",
      "epoch:15/40, step:5/13, loss=0.6383828520774841, avg_loss=0.6435505151748657\n",
      "epoch:15/40, step:10/13, loss=0.6301307082176208, avg_loss=0.6392357349395752\n",
      "epoch:15/40, all_loss=8.283297538757324\n",
      "epoch:16/40, step:0/13, loss=0.6229429244995117, avg_loss=0.6229429244995117\n",
      "epoch:16/40, step:5/13, loss=0.6130556464195251, avg_loss=0.6173279285430908\n",
      "epoch:16/40, step:10/13, loss=0.6034144163131714, avg_loss=0.6131089329719543\n",
      "epoch:16/40, all_loss=7.948239803314209\n",
      "epoch:17/40, step:0/13, loss=0.5956989526748657, avg_loss=0.5956989526748657\n",
      "epoch:17/40, step:5/13, loss=0.5868148803710938, avg_loss=0.5916099548339844\n",
      "epoch:17/40, step:10/13, loss=0.5798089504241943, avg_loss=0.5874382257461548\n",
      "epoch:17/40, all_loss=7.613302230834961\n",
      "epoch:18/40, step:0/13, loss=0.5715375542640686, avg_loss=0.5715375542640686\n",
      "epoch:18/40, step:5/13, loss=0.5644576549530029, avg_loss=0.5675782561302185\n",
      "epoch:18/40, step:10/13, loss=0.5533461570739746, avg_loss=0.5627368688583374\n",
      "epoch:18/40, all_loss=7.293323040008545\n",
      "epoch:19/40, step:0/13, loss=0.5466958284378052, avg_loss=0.5466958284378052\n",
      "epoch:19/40, step:5/13, loss=0.539199948310852, avg_loss=0.5426362752914429\n",
      "epoch:19/40, step:10/13, loss=0.5313465595245361, avg_loss=0.5385869145393372\n",
      "epoch:19/40, all_loss=6.982518672943115\n",
      "testing...\n"
     ]
    },
    {
     "name": "stderr",
     "output_type": "stream",
     "text": [
      "100%|██████████| 250/250 [00:08<00:00, 29.69it/s]\n"
     ]
    },
    {
     "name": "stdout",
     "output_type": "stream",
     "text": [
      "mrr: 0.5292729139328003, hit@1: 0.4196, hit@3: 0.6126, hit@10: 0.757  *\n",
      "epoch:20/40, step:0/13, loss=0.5242397785186768, avg_loss=0.5242397785186768\n",
      "epoch:20/40, step:5/13, loss=0.5161172747612, avg_loss=0.5196500420570374\n",
      "epoch:20/40, step:10/13, loss=0.5077863335609436, avg_loss=0.5155521631240845\n",
      "epoch:20/40, all_loss=6.682385444641113\n",
      "epoch:21/40, step:0/13, loss=0.5015569925308228, avg_loss=0.5015569925308228\n",
      "epoch:21/40, step:5/13, loss=0.49285560846328735, avg_loss=0.49783802032470703\n",
      "epoch:21/40, step:10/13, loss=0.4874747097492218, avg_loss=0.4940171241760254\n",
      "epoch:21/40, all_loss=6.403533935546875\n",
      "epoch:22/40, step:0/13, loss=0.479329913854599, avg_loss=0.479329913854599\n",
      "epoch:22/40, step:5/13, loss=0.4728599786758423, avg_loss=0.4767303466796875\n",
      "epoch:22/40, step:10/13, loss=0.4668695628643036, avg_loss=0.47371020913124084\n",
      "epoch:22/40, all_loss=6.137962818145752\n",
      "epoch:23/40, step:0/13, loss=0.46132948994636536, avg_loss=0.46132948994636536\n",
      "epoch:23/40, step:5/13, loss=0.4558965563774109, avg_loss=0.4586404263973236\n",
      "epoch:23/40, step:10/13, loss=0.4489997625350952, avg_loss=0.4554295241832733\n",
      "epoch:23/40, all_loss=5.902900695800781\n",
      "epoch:24/40, step:0/13, loss=0.44380733370780945, avg_loss=0.44380733370780945\n",
      "epoch:24/40, step:5/13, loss=0.437727689743042, avg_loss=0.4406583309173584\n",
      "epoch:24/40, step:10/13, loss=0.43045467138290405, avg_loss=0.4375717043876648\n",
      "epoch:24/40, all_loss=5.674609661102295\n",
      "testing...\n"
     ]
    },
    {
     "name": "stderr",
     "output_type": "stream",
     "text": [
      "100%|██████████| 250/250 [00:08<00:00, 28.73it/s]\n"
     ]
    },
    {
     "name": "stdout",
     "output_type": "stream",
     "text": [
      "mrr: 0.5394604802131653, hit@1: 0.4286, hit@3: 0.6208, hit@10: 0.7664  *\n",
      "epoch:25/40, step:0/13, loss=0.4251999855041504, avg_loss=0.4251999855041504\n",
      "epoch:25/40, step:5/13, loss=0.4224158227443695, avg_loss=0.4239966869354248\n",
      "epoch:25/40, step:10/13, loss=0.4155738949775696, avg_loss=0.4211021065711975\n",
      "epoch:25/40, all_loss=5.461114883422852\n",
      "epoch:26/40, step:0/13, loss=0.41131389141082764, avg_loss=0.41131389141082764\n",
      "epoch:26/40, step:5/13, loss=0.40423959493637085, avg_loss=0.40803050994873047\n",
      "epoch:26/40, step:10/13, loss=0.40049880743026733, avg_loss=0.40581226348876953\n",
      "epoch:26/40, all_loss=5.26209831237793\n",
      "epoch:27/40, step:0/13, loss=0.3952161371707916, avg_loss=0.3952161371707916\n",
      "epoch:27/40, step:5/13, loss=0.39085936546325684, avg_loss=0.39296436309814453\n",
      "epoch:27/40, step:10/13, loss=0.38564419746398926, avg_loss=0.39049288630485535\n",
      "epoch:27/40, all_loss=5.065100193023682\n",
      "epoch:28/40, step:0/13, loss=0.38210034370422363, avg_loss=0.38210034370422363\n",
      "epoch:28/40, step:5/13, loss=0.3778684139251709, avg_loss=0.38002586364746094\n",
      "epoch:28/40, step:10/13, loss=0.3745850622653961, avg_loss=0.37767112255096436\n",
      "epoch:28/40, all_loss=4.896151542663574\n",
      "epoch:29/40, step:0/13, loss=0.3677310049533844, avg_loss=0.3677310049533844\n",
      "epoch:29/40, step:5/13, loss=0.3650444447994232, avg_loss=0.36617279052734375\n",
      "epoch:29/40, step:10/13, loss=0.36022913455963135, avg_loss=0.3644421398639679\n",
      "epoch:29/40, all_loss=4.728375434875488\n",
      "testing...\n"
     ]
    },
    {
     "name": "stderr",
     "output_type": "stream",
     "text": [
      "100%|██████████| 250/250 [00:08<00:00, 28.32it/s]\n"
     ]
    },
    {
     "name": "stdout",
     "output_type": "stream",
     "text": [
      "mrr: 0.5466020107269287, hit@1: 0.4392, hit@3: 0.6236, hit@10: 0.7738  *\n",
      "epoch:30/40, step:0/13, loss=0.35795095562934875, avg_loss=0.35795095562934875\n",
      "epoch:30/40, step:5/13, loss=0.35421010851860046, avg_loss=0.35572129487991333\n",
      "epoch:30/40, step:10/13, loss=0.3492467403411865, avg_loss=0.35371506214141846\n",
      "epoch:30/40, all_loss=4.582926273345947\n",
      "epoch:31/40, step:0/13, loss=0.344818115234375, avg_loss=0.344818115234375\n",
      "epoch:31/40, step:5/13, loss=0.34190404415130615, avg_loss=0.34370383620262146\n",
      "epoch:31/40, step:10/13, loss=0.33772286772727966, avg_loss=0.3417131304740906\n",
      "epoch:31/40, all_loss=4.434080123901367\n",
      "epoch:32/40, step:0/13, loss=0.33508390188217163, avg_loss=0.33508390188217163\n",
      "epoch:32/40, step:5/13, loss=0.33088991045951843, avg_loss=0.3338489532470703\n",
      "epoch:32/40, step:10/13, loss=0.32853570580482483, avg_loss=0.33184537291526794\n",
      "epoch:32/40, all_loss=4.303565502166748\n",
      "epoch:33/40, step:0/13, loss=0.3250250220298767, avg_loss=0.3250250220298767\n",
      "epoch:33/40, step:5/13, loss=0.32282933592796326, avg_loss=0.32479599118232727\n",
      "epoch:33/40, step:10/13, loss=0.32012131810188293, avg_loss=0.32288554310798645\n",
      "epoch:33/40, all_loss=4.187285900115967\n",
      "epoch:34/40, step:0/13, loss=0.31738826632499695, avg_loss=0.31738826632499695\n",
      "epoch:34/40, step:5/13, loss=0.31323808431625366, avg_loss=0.31479665637016296\n",
      "epoch:34/40, step:10/13, loss=0.3105948269367218, avg_loss=0.31358960270881653\n",
      "epoch:34/40, all_loss=4.068104267120361\n",
      "testing...\n"
     ]
    },
    {
     "name": "stderr",
     "output_type": "stream",
     "text": [
      "100%|██████████| 250/250 [00:08<00:00, 28.68it/s]\n"
     ]
    },
    {
     "name": "stdout",
     "output_type": "stream",
     "text": [
      "mrr: 0.5480198860168457, hit@1: 0.4406, hit@3: 0.6246, hit@10: 0.7762  *\n",
      "epoch:35/40, step:0/13, loss=0.3093070089817047, avg_loss=0.3093070089817047\n",
      "epoch:35/40, step:5/13, loss=0.30491963028907776, avg_loss=0.3068051338195801\n",
      "epoch:35/40, step:10/13, loss=0.30330535769462585, avg_loss=0.30564165115356445\n",
      "epoch:35/40, all_loss=3.9636974334716797\n",
      "epoch:36/40, step:0/13, loss=0.2996509373188019, avg_loss=0.2996509373188019\n",
      "epoch:36/40, step:5/13, loss=0.2970978021621704, avg_loss=0.29867666959762573\n",
      "epoch:36/40, step:10/13, loss=0.293495237827301, avg_loss=0.2979808747768402\n",
      "epoch:36/40, all_loss=3.863135576248169\n",
      "epoch:37/40, step:0/13, loss=0.29338380694389343, avg_loss=0.29338380694389343\n",
      "epoch:37/40, step:5/13, loss=0.2930002212524414, avg_loss=0.2922579050064087\n",
      "epoch:37/40, step:10/13, loss=0.2875383496284485, avg_loss=0.29120343923568726\n",
      "epoch:37/40, all_loss=3.780827045440674\n",
      "epoch:38/40, step:0/13, loss=0.2843204736709595, avg_loss=0.2843204736709595\n",
      "epoch:38/40, step:5/13, loss=0.284173846244812, avg_loss=0.2849961817264557\n",
      "epoch:38/40, step:10/13, loss=0.2808132767677307, avg_loss=0.28414517641067505\n",
      "epoch:38/40, all_loss=3.6900382041931152\n",
      "epoch:39/40, step:0/13, loss=0.28168028593063354, avg_loss=0.28168028593063354\n",
      "epoch:39/40, step:5/13, loss=0.2778718173503876, avg_loss=0.28002238273620605\n",
      "epoch:39/40, step:10/13, loss=0.27648046612739563, avg_loss=0.2789188325405121\n",
      "epoch:39/40, all_loss=3.6197052001953125\n",
      "testing...\n"
     ]
    },
    {
     "name": "stderr",
     "output_type": "stream",
     "text": [
      "100%|██████████| 250/250 [00:08<00:00, 28.10it/s]\n"
     ]
    },
    {
     "name": "stdout",
     "output_type": "stream",
     "text": [
      "mrr: 0.5429804921150208, hit@1: 0.4334, hit@3: 0.6238, hit@10: 0.7786  \n"
     ]
    }
   ],
   "source": [
    "# 构建模型\n",
    "model = TransE(len(ent2id), len(rel2id), norm=distance_norm, dim=embedding_dim).cuda()\n",
    "# model.load_state_dict(torch.load('transE_best.pth'))\n",
    "# 优化器adam\n",
    "optimizer = torch.optim.Adam(model.parameters(), lr=learning_rate)\n",
    "# 损失函数， 对于本例，loss=max(0, (pd-nd)+1)， 负样本距离越小，正样本距离越大越好\n",
    "criterion = nn.MarginRankingLoss(margin=margin, reduction='mean')\n",
    "# 开始训练\n",
    "print('start training...')\n",
    "for epoch in range(epochs):\n",
    "    all_loss = 0\n",
    "    for i, (local_heads, local_relations, local_tails) in enumerate(train_data_loader):\n",
    "\n",
    "        positive_triples = torch.stack((local_heads, local_relations, local_tails), dim=1).cuda()\n",
    "\n",
    "        # 生成负样本\n",
    "        head_or_tail = torch.randint(high=2, size=local_heads.size())\n",
    "        random_entities = torch.randint(high=len(ent2id), size=local_heads.size())\n",
    "        broken_heads = torch.where(head_or_tail == 1, random_entities, local_heads)\n",
    "        broken_tails = torch.where(head_or_tail == 0, random_entities, local_tails)\n",
    "        negative_triples = torch.stack((broken_heads, local_relations, broken_tails), dim=1).cuda()\n",
    "\n",
    "        # # 生成负样本, 只打乱tail\n",
    "        # random_entities = torch.randint(high=len(ent2id), size=local_heads.size())\n",
    "        # negative_triples = torch.stack((random_entities, local_relations, random_entities), dim=1).cuda()\n",
    "\n",
    "        optimizer.zero_grad()\n",
    "        pd, nd = model(positive_triples, negative_triples)\n",
    "        # pd要尽可能小， nd要尽可能大\n",
    "        loss = criterion(pd, nd, torch.tensor([-1], dtype=torch.long).cuda())\n",
    "        loss.backward()\n",
    "        all_loss += loss.data\n",
    "        optimizer.step()\n",
    "        if i % print_frequency == 0:\n",
    "            print(\n",
    "                f\"epoch:{epoch}/{epochs}, step:{i}/{len(train_data_loader)}, loss={loss.item()}, avg_loss={all_loss / (i + 1)}\")\n",
    "    print(f\"epoch:{epoch}/{epochs}, all_loss={all_loss}\")\n",
    "\n",
    "    # 验证\n",
    "    if validation and (epoch + 1) % dev_interval == 0:\n",
    "        print('testing...')\n",
    "        improve = ''\n",
    "        mrr, hits1, hits3, hits10 = model.evaluate(dev_data_loader)\n",
    "        if mrr >= best_mrr:\n",
    "            best_mrr = mrr\n",
    "            improve = '*'\n",
    "            torch.save(model.state_dict(), 'transE_best.pth')\n",
    "        torch.save(model.state_dict(), 'transE_latest.pth')\n",
    "        print(f'mrr: {mrr}, hit@1: {hits1}, hit@3: {hits3}, hit@10: {hits10}  {improve}')\n",
    "    if not validation:\n",
    "        torch.save(model.state_dict(), 'transE_latest.pth')"
   ]
  },
  {
   "cell_type": "markdown",
   "metadata": {},
   "source": [
    "## 预测"
   ]
  },
  {
   "cell_type": "code",
   "execution_count": 9,
   "metadata": {},
   "outputs": [
    {
     "name": "stderr",
     "output_type": "stream",
     "text": [
      "100%|██████████| 250/250 [00:07<00:00, 32.18it/s]"
     ]
    },
    {
     "name": "stdout",
     "output_type": "stream",
     "text": [
      "prediction finished !\n"
     ]
    },
    {
     "name": "stderr",
     "output_type": "stream",
     "text": [
      "\n"
     ]
    }
   ],
   "source": [
    "predict_all = []\n",
    "model.load_state_dict(torch.load('transE_best.pth'))\n",
    "for heads, relations in tqdm.tqdm(test_data_loader):\n",
    "    # 预测的id,结果为tensor(batch_size*10)\n",
    "    predict_id = model.link_predict(heads.cuda(), relations.cuda())\n",
    "    # 结果取到cpu并转为一行的list以便迭代\n",
    "    predict_list = predict_id.cpu().numpy().reshape(1,-1).squeeze(0).tolist()\n",
    "    # id转为实体\n",
    "    predict_ent = map(lambda x: id2ent[x], predict_list)\n",
    "    # 保存结果\n",
    "    predict_all.extend(predict_ent)\n",
    "print('prediction finished !')"
   ]
  },
  {
   "cell_type": "markdown",
   "metadata": {},
   "source": [
    "## 写入文件并保存"
   ]
  },
  {
   "cell_type": "code",
   "execution_count": 10,
   "metadata": {},
   "outputs": [
    {
     "name": "stdout",
     "output_type": "stream",
     "text": [
      "file saved !\n"
     ]
    },
    {
     "ename": "",
     "evalue": "",
     "output_type": "error",
     "traceback": [
      "\u001b[1;31m在当前单元格或上一个单元格中执行代码时 Kernel 崩溃。\n",
      "\u001b[1;31m请查看单元格中的代码，以确定故障的可能原因。\n",
      "\u001b[1;31m单击<a href='https://aka.ms/vscodeJupyterKernelCrash'>此处</a>了解详细信息。\n",
      "\u001b[1;31m有关更多详细信息，请查看 Jupyter <a href='command:jupyter.viewOutput'>log</a>。"
     ]
    }
   ],
   "source": [
    "# 写入文件，按提交要求\n",
    "with open('submission.tsv', 'w', encoding='utf-8') as f:\n",
    "    for i in range(len(test)):\n",
    "        # 直接writelines没有空格分隔，手工加分割符，得按提交格式来\n",
    "        list = [x + '\\t' for x in test[i]] + [x + '\\n' if i == 9 else x + '\\t' for i, x in enumerate(predict_all[i*10:i*10+10])]\n",
    "        f.writelines(list)\n",
    "print('file saved !')"
   ]
  }
 ],
 "metadata": {
  "kernelspec": {
   "display_name": "Python 3",
   "language": "python",
   "name": "python3"
  },
  "language_info": {
   "codemirror_mode": {
    "name": "ipython",
    "version": 3
   },
   "file_extension": ".py",
   "mimetype": "text/x-python",
   "name": "python",
   "nbconvert_exporter": "python",
   "pygments_lexer": "ipython3",
   "version": "3.9.19"
  },
  "tianchi_metadata": {
   "competitions": [],
   "datasets": [
    {
     "id": "137349",
     "title": "获取数据集标题失败"
    }
   ],
   "description": "",
   "notebookId": "420547",
   "source": "dsw"
  }
 },
 "nbformat": 4,
 "nbformat_minor": 4
}
