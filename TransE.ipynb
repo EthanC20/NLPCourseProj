{
 "cells": [
  {
   "cell_type": "markdown",
   "metadata": {},
   "source": [
    "# TransE的pytorch实现\n",
    "\n",
    "TransE不是神经网络模型，它无法理解句子的含义，因而得分不高，随便跑跑mrr大概在42左右，调下参大概有45-50。\n",
    "\n",
    "TransE的优势在于不吃算力，仅靠CPU就能运行，这里我写的GPU版本速度更快。而且代码简单。\n",
    "\n",
    "又试了一下，我已经复现不出自己的得分了，太玄学了，大概策略就是先norm取1得到最优模型，加载该模型并norm改为2训练得到最优模型，再加载该模型norm取3得到最优模型，再反复调整后最优分数就是50左右；\n",
    "在算力允许的情况下，batchsize尽可能大，比如10万-150万（就是全部）；然后就是embedding维度我感觉影响不大，100维包含的信息足够丰富了，试过256和512，貌似大一点有时要好一些，不太确定，太大了会比较费算力；学习率粗调可以在0.01-0.001之间，微调就在0.001-0.0001之间吧。\n",
    "\n",
    "提供给大家学习，代码也可以在我的github下载：https://github.com/renqi1/TransE_Pytorch_OpenBG500\n"
   ]
  },
  {
   "cell_type": "code",
   "execution_count": 1,
   "metadata": {},
   "outputs": [],
   "source": [
    "import torch\n",
    "from torch import nn\n",
    "from torch.utils import data\n",
    "import numpy as np\n",
    "import tqdm"
   ]
  },
  {
   "cell_type": "markdown",
   "metadata": {},
   "source": [
    "## 构建数据集"
   ]
  },
  {
   "cell_type": "code",
   "execution_count": 3,
   "metadata": {},
   "outputs": [],
   "source": [
    "# 训练集和验证集\n",
    "class TripleDataset(data.Dataset):\n",
    "    def __init__(self, ent2id, rel2id, triple_data_list):\n",
    "        self.ent2id = ent2id\n",
    "        self.rel2id = rel2id\n",
    "        self.data = triple_data_list\n",
    "\n",
    "    def __len__(self):\n",
    "        return len(self.data)\n",
    "\n",
    "    def __getitem__(self, index):\n",
    "        head, relation, tail = self.data[index]\n",
    "        head_id = self.ent2id[head]\n",
    "        relation_id = self.rel2id[relation]\n",
    "        tail_id = self.ent2id[tail]\n",
    "        return head_id, relation_id, tail_id\n",
    "\n",
    "# 测试集    \n",
    "class TestDataset(data.Dataset):\n",
    "    def __init__(self, ent2id, rel2id, test_data_list):\n",
    "        self.ent2id = ent2id\n",
    "        self.rel2id = rel2id\n",
    "        self.data = test_data_list\n",
    "\n",
    "    def __len__(self):\n",
    "        return len(self.data)\n",
    "\n",
    "    def __getitem__(self, index):\n",
    "        head, relation = self.data[index]\n",
    "        head_id = self.ent2id[head]\n",
    "        relation_id = self.rel2id[relation]\n",
    "        return head_id, relation_id"
   ]
  },
  {
   "cell_type": "markdown",
   "metadata": {},
   "source": [
    "## TransE模型"
   ]
  },
  {
   "cell_type": "code",
   "execution_count": 61,
   "metadata": {},
   "outputs": [],
   "source": [
    "class TransE(nn.Module):\n",
    "\n",
    "    def __init__(self, entity_num, relation_num, norm=1, dim=100):\n",
    "        super(TransE, self).__init__()\n",
    "        self.norm = norm\n",
    "        self.dim = dim\n",
    "        self.entity_num = entity_num\n",
    "        self.entities_emb = self._init_emb(entity_num)\n",
    "        self.relations_emb = self._init_emb(relation_num)\n",
    "\n",
    "    def _init_emb(self, num_embeddings):\n",
    "        embedding = nn.Embedding(num_embeddings=num_embeddings, embedding_dim=self.dim)\n",
    "        uniform_range = 6 / np.sqrt(self.dim)\n",
    "        embedding.weight.data.uniform_(-uniform_range, uniform_range)\n",
    "        embedding.weight.data = torch.div(embedding.weight.data, embedding.weight.data.norm(p=2, dim=1, keepdim=True))\n",
    "        return embedding\n",
    "\n",
    "    def forward(self, positive_triplets: torch.LongTensor, negative_triplets: torch.LongTensor):\n",
    "        positive_distances = self._distance(positive_triplets)\n",
    "        negative_distances = self._distance(negative_triplets)\n",
    "        return positive_distances, negative_distances\n",
    "\n",
    "    def _distance(self, triplets):\n",
    "        heads = self.entities_emb(triplets[:, 0])\n",
    "        relations = self.relations_emb(triplets[:, 1])\n",
    "        tails = self.entities_emb(triplets[:, 2])\n",
    "        return (heads + relations - tails).norm(p=self.norm, dim=1)\n",
    "\n",
    "    def link_predict(self, head, relation, tail=None, k=10):\n",
    "        # h_add_r: [batch size, embed size] -> [batch size, 1, embed size] -> [batch size, entity num, embed size]\n",
    "        h_add_r = self.entities_emb(head) + self.relations_emb(relation)\n",
    "        h_add_r = torch.unsqueeze(h_add_r, dim=1)\n",
    "        h_add_r = h_add_r.expand(h_add_r.shape[0], self.entity_num, self.dim)\n",
    "        # embed_tail: [batch size, embed size] -> [batch size, entity num, embed size]\n",
    "        embed_tail = self.entities_emb.weight.data.expand(h_add_r.shape[0], self.entity_num, self.dim)\n",
    "        # values: [batch size, k] scores, the smaller, the better\n",
    "        # indices: [batch size, k] indices of entities ranked by scores\n",
    "        values, indices = torch.topk(torch.norm(h_add_r - embed_tail, dim=2), k=self.entity_num, dim=1, largest=False)\n",
    "        if tail is not None:\n",
    "            tail = tail.view(-1, 1)\n",
    "            rank_num = torch.eq(indices, tail).nonzero().permute(1, 0)[1]+1\n",
    "            rank_num[rank_num > 9] = 10000\n",
    "            mrr = torch.sum(1/rank_num)\n",
    "            hits_1_num = torch.sum(torch.eq(indices[:, :1], tail)).item()\n",
    "            hits_3_num = torch.sum(torch.eq(indices[:, :3], tail)).item()\n",
    "            hits_10_num = torch.sum(torch.eq(indices[:, :10], tail)).item()\n",
    "            return mrr, hits_1_num, hits_3_num, hits_10_num     # 返回一个batchsize, mrr的和，hit@k的和\n",
    "        return indices[:, :k]\n",
    "\n",
    "    def evaluate(self, data_loader, dev_num=5000.0):\n",
    "        mrr_sum = hits_1_nums = hits_3_nums = hits_10_nums = 0\n",
    "        for heads, relations, tails in tqdm.tqdm(data_loader):\n",
    "            mrr_sum_batch, hits_1_num, hits_3_num, hits_10_num = self.link_predict(heads.cuda(), relations.cuda(), tails.cuda())\n",
    "            mrr_sum += mrr_sum_batch\n",
    "            hits_1_nums += hits_1_num\n",
    "            hits_3_nums += hits_3_num\n",
    "            hits_10_nums += hits_10_num\n",
    "        return mrr_sum/dev_num, hits_1_nums/dev_num, hits_3_nums/dev_num, hits_10_nums/dev_num"
   ]
  },
  {
   "cell_type": "markdown",
   "metadata": {},
   "source": [
    "## 设置参数"
   ]
  },
  {
   "cell_type": "code",
   "execution_count": 22,
   "metadata": {},
   "outputs": [],
   "source": [
    "# batchsize增大，得分略有上升\n",
    "train_batch_size = 100000\n",
    "dev_batch_size = 20  # 显存不够就调小\n",
    "test_batch_size = 20\n",
    "epochs = 40\n",
    "margin = 1\n",
    "print_frequency = 5  # 每多少step输出一次信息\n",
    "validation = True  # 是否验证，验证比较费时\n",
    "dev_interval = 5  # 每多少轮验证一次，微调设小一点，会保存最佳权重\n",
    "best_mrr = 0\n",
    "learning_rate = 0.001  # 学习率建议粗调0.01-0.001，精调0.001-0.0001\n",
    "distance_norm = 3  # 论文是L1距离效果不好，取2或3效果好\n",
    "embedding_dim = 100  # 维度增大可能会有提升，我感觉没用，100维包含的信息足够丰富"
   ]
  },
  {
   "cell_type": "markdown",
   "metadata": {},
   "source": [
    "## 加载数据集"
   ]
  },
  {
   "cell_type": "code",
   "execution_count": 23,
   "metadata": {},
   "outputs": [],
   "source": [
    "with open('OpenBG500/OpenBG500_entity2text.tsv', 'r', encoding='utf-8') as fp:\n",
    "    dat = fp.readlines()\n",
    "    lines = [line.strip('\\n').split('\\t') for line in dat]\n",
    "ent2id = {line[0]: i for i, line in enumerate(lines)}\n",
    "id2ent = {i: line[0] for i, line in enumerate(lines)}\n",
    "with open('OpenBG500/OpenBG500_relation2text.tsv', 'r', encoding='utf-8') as fp:\n",
    "    dat = fp.readlines()\n",
    "    lines = [line.strip().split('\\t') for line in dat]\n",
    "rel2id = {line[0]: i for i, line in enumerate(lines)}\n",
    "with open('OpenBG500/OpenBG500_train.tsv', 'r', encoding='utf-8') as fp:\n",
    "    dat = fp.readlines()\n",
    "    train = [line.strip('\\n').split('\\t') for line in dat]\n",
    "with open('OpenBG500/OpenBG500_dev.tsv', 'r', encoding='utf-8') as fp:\n",
    "    dat = fp.readlines()\n",
    "    dev = [line.strip('\\n').split('\\t') for line in dat]\n",
    "with open('OpenBG500/OpenBG500_test.tsv', 'r', encoding='utf-8') as fp:\n",
    "    test = fp.readlines()\n",
    "    test = [line.strip('\\n').split('\\t') for line in test]\n",
    "# 构建数据集\n",
    "train_dataset = TripleDataset(ent2id, rel2id, train)\n",
    "dev_dataset = TripleDataset(ent2id, rel2id, dev)\n",
    "train_data_loader = data.DataLoader(train_dataset, batch_size=train_batch_size, shuffle=True)\n",
    "dev_data_loader = data.DataLoader(dev_dataset, batch_size=dev_batch_size)\n",
    "test_dataset = TestDataset(ent2id, rel2id, test)\n",
    "test_data_loader = data.DataLoader(test_dataset, batch_size=test_batch_size)"
   ]
  },
  {
   "cell_type": "markdown",
   "metadata": {},
   "source": [
    "## 训练和验证"
   ]
  },
  {
   "cell_type": "code",
   "execution_count": 40,
   "metadata": {},
   "outputs": [
    {
     "ename": "KeyboardInterrupt",
     "evalue": "",
     "output_type": "error",
     "traceback": [
      "\u001b[1;31m---------------------------------------------------------------------------\u001b[0m",
      "\u001b[1;31mKeyboardInterrupt\u001b[0m                         Traceback (most recent call last)",
      "Cell \u001b[1;32mIn[40], line 2\u001b[0m\n\u001b[0;32m      1\u001b[0m \u001b[38;5;66;03m# 构建模型\u001b[39;00m\n\u001b[1;32m----> 2\u001b[0m model \u001b[38;5;241m=\u001b[39m \u001b[43mTransE\u001b[49m\u001b[43m(\u001b[49m\u001b[38;5;28;43mlen\u001b[39;49m\u001b[43m(\u001b[49m\u001b[43ment2id\u001b[49m\u001b[43m)\u001b[49m\u001b[43m,\u001b[49m\u001b[43m \u001b[49m\u001b[38;5;28;43mlen\u001b[39;49m\u001b[43m(\u001b[49m\u001b[43mrel2id\u001b[49m\u001b[43m)\u001b[49m\u001b[43m,\u001b[49m\u001b[43m \u001b[49m\u001b[43mnorm\u001b[49m\u001b[38;5;241;43m=\u001b[39;49m\u001b[43mdistance_norm\u001b[49m\u001b[43m,\u001b[49m\u001b[43m \u001b[49m\u001b[43mdim\u001b[49m\u001b[38;5;241;43m=\u001b[39;49m\u001b[43membedding_dim\u001b[49m\u001b[43m)\u001b[49m\u001b[38;5;241m.\u001b[39mcuda()\n\u001b[0;32m      3\u001b[0m \u001b[38;5;66;03m# model.load_state_dict(torch.load('transE_best.pth'))\u001b[39;00m\n\u001b[0;32m      4\u001b[0m \u001b[38;5;66;03m# 优化器adam\u001b[39;00m\n\u001b[0;32m      5\u001b[0m optimizer \u001b[38;5;241m=\u001b[39m torch\u001b[38;5;241m.\u001b[39moptim\u001b[38;5;241m.\u001b[39mAdam(model\u001b[38;5;241m.\u001b[39mparameters(), lr\u001b[38;5;241m=\u001b[39mlearning_rate)\n",
      "Cell \u001b[1;32mIn[28], line 8\u001b[0m, in \u001b[0;36mTransE.__init__\u001b[1;34m(self, entity_num, relation_num, norm, dim)\u001b[0m\n\u001b[0;32m      6\u001b[0m \u001b[38;5;28mself\u001b[39m\u001b[38;5;241m.\u001b[39mdim \u001b[38;5;241m=\u001b[39m dim\n\u001b[0;32m      7\u001b[0m \u001b[38;5;28mself\u001b[39m\u001b[38;5;241m.\u001b[39mentity_num \u001b[38;5;241m=\u001b[39m entity_num\n\u001b[1;32m----> 8\u001b[0m \u001b[38;5;28mself\u001b[39m\u001b[38;5;241m.\u001b[39mentities_emb \u001b[38;5;241m=\u001b[39m \u001b[38;5;28;43mself\u001b[39;49m\u001b[38;5;241;43m.\u001b[39;49m\u001b[43m_init_emb\u001b[49m\u001b[43m(\u001b[49m\u001b[43mentity_num\u001b[49m\u001b[43m)\u001b[49m\n\u001b[0;32m      9\u001b[0m \u001b[38;5;28mself\u001b[39m\u001b[38;5;241m.\u001b[39mrelations_emb \u001b[38;5;241m=\u001b[39m \u001b[38;5;28mself\u001b[39m\u001b[38;5;241m.\u001b[39m_init_emb(relation_num)\n",
      "Cell \u001b[1;32mIn[28], line 12\u001b[0m, in \u001b[0;36mTransE._init_emb\u001b[1;34m(self, num_embeddings)\u001b[0m\n\u001b[0;32m     11\u001b[0m \u001b[38;5;28;01mdef\u001b[39;00m \u001b[38;5;21m_init_emb\u001b[39m(\u001b[38;5;28mself\u001b[39m, num_embeddings):\n\u001b[1;32m---> 12\u001b[0m     embedding \u001b[38;5;241m=\u001b[39m \u001b[43mnn\u001b[49m\u001b[38;5;241;43m.\u001b[39;49m\u001b[43mEmbedding\u001b[49m\u001b[43m(\u001b[49m\u001b[43mnum_embeddings\u001b[49m\u001b[38;5;241;43m=\u001b[39;49m\u001b[43mnum_embeddings\u001b[49m\u001b[43m,\u001b[49m\u001b[43m \u001b[49m\u001b[43membedding_dim\u001b[49m\u001b[38;5;241;43m=\u001b[39;49m\u001b[38;5;28;43mself\u001b[39;49m\u001b[38;5;241;43m.\u001b[39;49m\u001b[43mdim\u001b[49m\u001b[43m)\u001b[49m\n\u001b[0;32m     13\u001b[0m     uniform_range \u001b[38;5;241m=\u001b[39m \u001b[38;5;241m6\u001b[39m \u001b[38;5;241m/\u001b[39m np\u001b[38;5;241m.\u001b[39msqrt(\u001b[38;5;28mself\u001b[39m\u001b[38;5;241m.\u001b[39mdim)\n\u001b[0;32m     14\u001b[0m     embedding\u001b[38;5;241m.\u001b[39mweight\u001b[38;5;241m.\u001b[39mdata\u001b[38;5;241m.\u001b[39muniform_(\u001b[38;5;241m-\u001b[39muniform_range, uniform_range)\n",
      "File \u001b[1;32me:\\anaconda3\\envs\\NLP\\lib\\site-packages\\torch\\nn\\modules\\sparse.py:145\u001b[0m, in \u001b[0;36mEmbedding.__init__\u001b[1;34m(self, num_embeddings, embedding_dim, padding_idx, max_norm, norm_type, scale_grad_by_freq, sparse, _weight, _freeze, device, dtype)\u001b[0m\n\u001b[0;32m    142\u001b[0m \u001b[38;5;28;01mif\u001b[39;00m _weight \u001b[38;5;129;01mis\u001b[39;00m \u001b[38;5;28;01mNone\u001b[39;00m:\n\u001b[0;32m    143\u001b[0m     \u001b[38;5;28mself\u001b[39m\u001b[38;5;241m.\u001b[39mweight \u001b[38;5;241m=\u001b[39m Parameter(torch\u001b[38;5;241m.\u001b[39mempty((num_embeddings, embedding_dim), \u001b[38;5;241m*\u001b[39m\u001b[38;5;241m*\u001b[39mfactory_kwargs),\n\u001b[0;32m    144\u001b[0m                             requires_grad\u001b[38;5;241m=\u001b[39m\u001b[38;5;129;01mnot\u001b[39;00m _freeze)\n\u001b[1;32m--> 145\u001b[0m     \u001b[38;5;28;43mself\u001b[39;49m\u001b[38;5;241;43m.\u001b[39;49m\u001b[43mreset_parameters\u001b[49m\u001b[43m(\u001b[49m\u001b[43m)\u001b[49m\n\u001b[0;32m    146\u001b[0m \u001b[38;5;28;01melse\u001b[39;00m:\n\u001b[0;32m    147\u001b[0m     \u001b[38;5;28;01massert\u001b[39;00m \u001b[38;5;28mlist\u001b[39m(_weight\u001b[38;5;241m.\u001b[39mshape) \u001b[38;5;241m==\u001b[39m [num_embeddings, embedding_dim], \\\n\u001b[0;32m    148\u001b[0m         \u001b[38;5;124m'\u001b[39m\u001b[38;5;124mShape of weight does not match num_embeddings and embedding_dim\u001b[39m\u001b[38;5;124m'\u001b[39m\n",
      "File \u001b[1;32me:\\anaconda3\\envs\\NLP\\lib\\site-packages\\torch\\nn\\modules\\sparse.py:154\u001b[0m, in \u001b[0;36mEmbedding.reset_parameters\u001b[1;34m(self)\u001b[0m\n\u001b[0;32m    153\u001b[0m \u001b[38;5;28;01mdef\u001b[39;00m \u001b[38;5;21mreset_parameters\u001b[39m(\u001b[38;5;28mself\u001b[39m) \u001b[38;5;241m-\u001b[39m\u001b[38;5;241m>\u001b[39m \u001b[38;5;28;01mNone\u001b[39;00m:\n\u001b[1;32m--> 154\u001b[0m     \u001b[43minit\u001b[49m\u001b[38;5;241;43m.\u001b[39;49m\u001b[43mnormal_\u001b[49m\u001b[43m(\u001b[49m\u001b[38;5;28;43mself\u001b[39;49m\u001b[38;5;241;43m.\u001b[39;49m\u001b[43mweight\u001b[49m\u001b[43m)\u001b[49m\n\u001b[0;32m    155\u001b[0m     \u001b[38;5;28mself\u001b[39m\u001b[38;5;241m.\u001b[39m_fill_padding_idx_with_zero()\n",
      "File \u001b[1;32me:\\anaconda3\\envs\\NLP\\lib\\site-packages\\torch\\nn\\init.py:175\u001b[0m, in \u001b[0;36mnormal_\u001b[1;34m(tensor, mean, std, generator)\u001b[0m\n\u001b[0;32m    171\u001b[0m \u001b[38;5;28;01mif\u001b[39;00m torch\u001b[38;5;241m.\u001b[39moverrides\u001b[38;5;241m.\u001b[39mhas_torch_function_variadic(tensor):\n\u001b[0;32m    172\u001b[0m     \u001b[38;5;28;01mreturn\u001b[39;00m torch\u001b[38;5;241m.\u001b[39moverrides\u001b[38;5;241m.\u001b[39mhandle_torch_function(\n\u001b[0;32m    173\u001b[0m         normal_, (tensor,), tensor\u001b[38;5;241m=\u001b[39mtensor, mean\u001b[38;5;241m=\u001b[39mmean, std\u001b[38;5;241m=\u001b[39mstd, generator\u001b[38;5;241m=\u001b[39mgenerator\n\u001b[0;32m    174\u001b[0m     )\n\u001b[1;32m--> 175\u001b[0m \u001b[38;5;28;01mreturn\u001b[39;00m \u001b[43m_no_grad_normal_\u001b[49m\u001b[43m(\u001b[49m\u001b[43mtensor\u001b[49m\u001b[43m,\u001b[49m\u001b[43m \u001b[49m\u001b[43mmean\u001b[49m\u001b[43m,\u001b[49m\u001b[43m \u001b[49m\u001b[43mstd\u001b[49m\u001b[43m,\u001b[49m\u001b[43m \u001b[49m\u001b[43mgenerator\u001b[49m\u001b[43m)\u001b[49m\n",
      "File \u001b[1;32me:\\anaconda3\\envs\\NLP\\lib\\site-packages\\torch\\nn\\init.py:20\u001b[0m, in \u001b[0;36m_no_grad_normal_\u001b[1;34m(tensor, mean, std, generator)\u001b[0m\n\u001b[0;32m     18\u001b[0m \u001b[38;5;28;01mdef\u001b[39;00m \u001b[38;5;21m_no_grad_normal_\u001b[39m(tensor, mean, std, generator\u001b[38;5;241m=\u001b[39m\u001b[38;5;28;01mNone\u001b[39;00m):\n\u001b[0;32m     19\u001b[0m     \u001b[38;5;28;01mwith\u001b[39;00m torch\u001b[38;5;241m.\u001b[39mno_grad():\n\u001b[1;32m---> 20\u001b[0m         \u001b[38;5;28;01mreturn\u001b[39;00m \u001b[43mtensor\u001b[49m\u001b[38;5;241;43m.\u001b[39;49m\u001b[43mnormal_\u001b[49m\u001b[43m(\u001b[49m\u001b[43mmean\u001b[49m\u001b[43m,\u001b[49m\u001b[43m \u001b[49m\u001b[43mstd\u001b[49m\u001b[43m,\u001b[49m\u001b[43m \u001b[49m\u001b[43mgenerator\u001b[49m\u001b[38;5;241;43m=\u001b[39;49m\u001b[43mgenerator\u001b[49m\u001b[43m)\u001b[49m\n",
      "\u001b[1;31mKeyboardInterrupt\u001b[0m: "
     ]
    }
   ],
   "source": [
    "# 构建模型\n",
    "model = TransE(len(ent2id), len(rel2id), norm=distance_norm, dim=embedding_dim).cuda()\n",
    "# model.load_state_dict(torch.load('transE_best.pth'))\n",
    "# 优化器adam\n",
    "optimizer = torch.optim.Adam(model.parameters(), lr=learning_rate)\n",
    "# 损失函数， 对于本例，loss=max(0, (pd-nd)+1)， 负样本距离越小，正样本距离越大越好\n",
    "criterion = nn.MarginRankingLoss(margin=margin, reduction='mean')\n",
    "# 开始训练\n",
    "print('start training...')\n",
    "for epoch in range(epochs):\n",
    "    all_loss = 0\n",
    "    for i, (local_heads, local_relations, local_tails) in enumerate(train_data_loader):\n",
    "\n",
    "        positive_triples = torch.stack((local_heads, local_relations, local_tails), dim=1).cuda()\n",
    "\n",
    "        # 生成负样本\n",
    "        head_or_tail = torch.randint(high=2, size=local_heads.size())\n",
    "        random_entities = torch.randint(high=len(ent2id), size=local_heads.size())\n",
    "        broken_heads = torch.where(head_or_tail == 1, random_entities, local_heads)\n",
    "        broken_tails = torch.where(head_or_tail == 0, random_entities, local_tails)\n",
    "        negative_triples = torch.stack((broken_heads, local_relations, broken_tails), dim=1).cuda()\n",
    "\n",
    "        # # 生成负样本, 只打乱tail\n",
    "        # random_entities = torch.randint(high=len(ent2id), size=local_heads.size())\n",
    "        # negative_triples = torch.stack((random_entities, local_relations, random_entities), dim=1).cuda()\n",
    "\n",
    "        optimizer.zero_grad()\n",
    "        pd, nd = model(positive_triples, negative_triples)\n",
    "        # pd要尽可能小， nd要尽可能大\n",
    "        loss = criterion(pd, nd, torch.tensor([-1], dtype=torch.long).cuda())\n",
    "        loss.backward()\n",
    "        all_loss += loss.data\n",
    "        optimizer.step()\n",
    "        if i % print_frequency == 0:\n",
    "            print(\n",
    "                f\"epoch:{epoch}/{epochs}, step:{i}/{len(train_data_loader)}, loss={loss.item()}, avg_loss={all_loss / (i + 1)}\")\n",
    "    print(f\"epoch:{epoch}/{epochs}, all_loss={all_loss}\")\n",
    "\n",
    "    # 验证\n",
    "    if validation and (epoch + 1) % dev_interval == 0:\n",
    "        print('testing...')\n",
    "        improve = ''\n",
    "        mrr, hits1, hits3, hits10 = model.evaluate(dev_data_loader)\n",
    "        if mrr >= best_mrr:\n",
    "            best_mrr = mrr\n",
    "            improve = '*'\n",
    "            torch.save(model.state_dict(), 'transE_best.pth')\n",
    "        torch.save(model.state_dict(), 'transE_latest.pth')\n",
    "        print(f'mrr: {mrr}, hit@1: {hits1}, hit@3: {hits3}, hit@10: {hits10}  {improve}')\n",
    "    if not validation:\n",
    "        torch.save(model.state_dict(), 'transE_latest.pth')"
   ]
  },
  {
   "cell_type": "markdown",
   "metadata": {},
   "source": [
    "## 预测"
   ]
  },
  {
   "cell_type": "code",
   "execution_count": 32,
   "metadata": {},
   "outputs": [
    {
     "ename": "NameError",
     "evalue": "name 'model' is not defined",
     "output_type": "error",
     "traceback": [
      "\u001b[1;31m---------------------------------------------------------------------------\u001b[0m",
      "\u001b[1;31mNameError\u001b[0m                                 Traceback (most recent call last)",
      "Cell \u001b[1;32mIn[32], line 2\u001b[0m\n\u001b[0;32m      1\u001b[0m predict_all \u001b[38;5;241m=\u001b[39m []\n\u001b[1;32m----> 2\u001b[0m \u001b[43mmodel\u001b[49m\u001b[38;5;241m.\u001b[39mload_state_dict(torch\u001b[38;5;241m.\u001b[39mload(\u001b[38;5;124m'\u001b[39m\u001b[38;5;124mtransE_best.pth\u001b[39m\u001b[38;5;124m'\u001b[39m))\n\u001b[0;32m      3\u001b[0m \u001b[38;5;28;01mfor\u001b[39;00m heads, relations \u001b[38;5;129;01min\u001b[39;00m tqdm\u001b[38;5;241m.\u001b[39mtqdm(test_data_loader):\n\u001b[0;32m      4\u001b[0m     \u001b[38;5;66;03m# 预测的id,结果为tensor(batch_size*10)\u001b[39;00m\n\u001b[0;32m      5\u001b[0m     predict_id \u001b[38;5;241m=\u001b[39m model\u001b[38;5;241m.\u001b[39mlink_predict(heads\u001b[38;5;241m.\u001b[39mcuda(), relations\u001b[38;5;241m.\u001b[39mcuda())\n",
      "\u001b[1;31mNameError\u001b[0m: name 'model' is not defined"
     ]
    }
   ],
   "source": [
    "predict_all = []\n",
    "model.load_state_dict(torch.load('transE_best.pth'))\n",
    "for heads, relations in tqdm.tqdm(test_data_loader):\n",
    "    # 预测的id,结果为tensor(batch_size*10)\n",
    "    predict_id = model.link_predict(heads.cuda(), relations.cuda())\n",
    "    # 结果取到cpu并转为一行的list以便迭代\n",
    "    predict_list = predict_id.cpu().numpy().reshape(1,-1).squeeze(0).tolist()\n",
    "    # id转为实体\n",
    "    predict_ent = map(lambda x: id2ent[x], predict_list)\n",
    "    # 保存结果\n",
    "    predict_all.extend(predict_ent)\n",
    "print('prediction finished !')"
   ]
  },
  {
   "cell_type": "markdown",
   "metadata": {},
   "source": [
    "## 写入文件并保存"
   ]
  },
  {
   "cell_type": "code",
   "execution_count": 8,
   "metadata": {},
   "outputs": [
    {
     "name": "stdout",
     "output_type": "stream",
     "text": [
      "file saved !\n"
     ]
    }
   ],
   "source": [
    "# 写入文件，按提交要求\n",
    "with open('submission.tsv', 'w', encoding='utf-8') as f:\n",
    "    for i in range(len(test)):\n",
    "        # 直接writelines没有空格分隔，手工加分割符，得按提交格式来\n",
    "        list = [x + '\\t' for x in test[i]] + [x + '\\n' if i == 9 else x + '\\t' for i, x in enumerate(predict_all[i*10:i*10+10])]\n",
    "        f.writelines(list)\n",
    "print('file saved !')"
   ]
  }
 ],
 "metadata": {
  "kernelspec": {
   "display_name": "Python 3",
   "language": "python",
   "name": "python3"
  },
  "language_info": {
   "codemirror_mode": {
    "name": "ipython",
    "version": 3
   },
   "file_extension": ".py",
   "mimetype": "text/x-python",
   "name": "python",
   "nbconvert_exporter": "python",
   "pygments_lexer": "ipython3",
   "version": "3.9.19"
  },
  "tianchi_metadata": {
   "competitions": [],
   "datasets": [
    {
     "id": "137349",
     "title": "获取数据集标题失败"
    }
   ],
   "description": "",
   "notebookId": "420547",
   "source": "dsw"
  }
 },
 "nbformat": 4,
 "nbformat_minor": 4
}
