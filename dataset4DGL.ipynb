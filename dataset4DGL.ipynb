{
 "cells": [
  {
   "cell_type": "code",
   "execution_count": 10,
   "metadata": {},
   "outputs": [
    {
     "data": {
      "text/html": [
       "<div>\n",
       "<style scoped>\n",
       "    .dataframe tbody tr th:only-of-type {\n",
       "        vertical-align: middle;\n",
       "    }\n",
       "\n",
       "    .dataframe tbody tr th {\n",
       "        vertical-align: top;\n",
       "    }\n",
       "\n",
       "    .dataframe thead th {\n",
       "        text-align: right;\n",
       "    }\n",
       "</style>\n",
       "<table border=\"1\" class=\"dataframe\">\n",
       "  <thead>\n",
       "    <tr style=\"text-align: right;\">\n",
       "      <th></th>\n",
       "      <th>relation id</th>\n",
       "      <th>text</th>\n",
       "    </tr>\n",
       "  </thead>\n",
       "  <tbody>\n",
       "    <tr>\n",
       "      <th>0</th>\n",
       "      <td>rel_0418</td>\n",
       "      <td>细分市场</td>\n",
       "    </tr>\n",
       "    <tr>\n",
       "      <th>1</th>\n",
       "      <td>rel_0290</td>\n",
       "      <td>关联场景</td>\n",
       "    </tr>\n",
       "    <tr>\n",
       "      <th>2</th>\n",
       "      <td>rel_0492</td>\n",
       "      <td>适用人群</td>\n",
       "    </tr>\n",
       "    <tr>\n",
       "      <th>3</th>\n",
       "      <td>rel_0097</td>\n",
       "      <td>色泽</td>\n",
       "    </tr>\n",
       "    <tr>\n",
       "      <th>4</th>\n",
       "      <td>rel_0256</td>\n",
       "      <td>产地</td>\n",
       "    </tr>\n",
       "  </tbody>\n",
       "</table>\n",
       "</div>"
      ],
      "text/plain": [
       "  relation id  text\n",
       "0    rel_0418  细分市场\n",
       "1    rel_0290  关联场景\n",
       "2    rel_0492  适用人群\n",
       "3    rel_0097    色泽\n",
       "4    rel_0256    产地"
      ]
     },
     "execution_count": 10,
     "metadata": {},
     "output_type": "execute_result"
    }
   ],
   "source": [
    "import pandas as pd\n",
    "\n",
    "entity = pd.read_csv('./OpenBG500/OpenBG500_entity2text.tsv', sep='\\t', header=None, names=['entity id', 'text'])\n",
    "entity.head()\n",
    "\n",
    "relation = pd.read_csv('./OpenBG500/OpenBG500_relation2text.tsv', sep='\\t', header=None, names=['relation id', 'text'])\n",
    "relation.head()\n"
   ]
  },
  {
   "cell_type": "code",
   "execution_count": null,
   "metadata": {},
   "outputs": [],
   "source": [
    "import os\n",
    "os.environ[\"DGLBACKEND\"] = \"pytorch\"  # tell DGL what backend to use\n",
    "import dgl\n",
    "import torch\n",
    "from dgl.data import DGLDataset\n",
    "\n",
    "class OpenBG500Dataset(DGLDataset):\n",
    "    def __init__(self):\n",
    "        super().__init__(name='openbg500')\n",
    "    \n",
    "    def process(self):\n",
    "        entity = pd.read_csv('./OpenBG500/OpenBG500_entity2text.tsv', sep='\\t', header=None, names=['entity_id', 'entity_text'])\n",
    "        relation = pd.read_csv('./OpenBG500/OpenBG500_relation2text.tsv', sep='\\t', header=None, names=['relation_id', 'relation_text'])\n",
    "\n",
    "        \n",
    "\n"
   ]
  }
 ],
 "metadata": {
  "kernelspec": {
   "display_name": "NLP",
   "language": "python",
   "name": "python3"
  },
  "language_info": {
   "codemirror_mode": {
    "name": "ipython",
    "version": 3
   },
   "file_extension": ".py",
   "mimetype": "text/x-python",
   "name": "python",
   "nbconvert_exporter": "python",
   "pygments_lexer": "ipython3",
   "version": "3.9.19"
  }
 },
 "nbformat": 4,
 "nbformat_minor": 2
}
